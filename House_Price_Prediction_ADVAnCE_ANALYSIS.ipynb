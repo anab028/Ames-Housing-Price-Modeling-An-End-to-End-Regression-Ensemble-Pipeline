{
  "nbformat": 4,
  "nbformat_minor": 0,
  "metadata": {
    "colab": {
      "provenance": []
    },
    "kernelspec": {
      "name": "python3",
      "display_name": "Python 3"
    },
    "language_info": {
      "name": "python"
    }
  },
  "cells": [
    {
      "cell_type": "code",
      "execution_count": 12,
      "metadata": {
        "id": "K3Nqp5TEkiSC"
      },
      "outputs": [],
      "source": [
        "import pandas as pd\n",
        "import numpy as np\n",
        "import matplotlib.pyplot as plt\n",
        "import seaborn as sns\n",
        "from sklearn.preprocessing import OneHotEncoder, StandardScaler\n",
        "from sklearn.compose import ColumnTransformer\n",
        "from sklearn.pipeline import Pipeline\n",
        "from sklearn.linear_model import RidgeCV\n",
        "from sklearn.model_selection import cross_val_score\n",
        "from sklearn.impute import SimpleImputer"
      ]
    },
    {
      "cell_type": "code",
      "source": [
        "train = pd.read_csv(\"train.csv\")\n",
        "test  = pd.read_csv(\"test.csv\")"
      ],
      "metadata": {
        "id": "wNtEGz_Ik_tU"
      },
      "execution_count": 2,
      "outputs": []
    },
    {
      "cell_type": "code",
      "source": [
        "print(\"▶ train.csv shape:\", train.shape)\n",
        "print(\"▶ test.csv  shape:\", test.shape)"
      ],
      "metadata": {
        "colab": {
          "base_uri": "https://localhost:8080/"
        },
        "id": "ieGHv9EolBFn",
        "outputId": "33216fdf-4f8d-49c4-b5a4-a2057577c0de"
      },
      "execution_count": 3,
      "outputs": [
        {
          "output_type": "stream",
          "name": "stdout",
          "text": [
            "▶ train.csv shape: (1460, 81)\n",
            "▶ test.csv  shape: (1459, 80)\n"
          ]
        }
      ]
    },
    {
      "cell_type": "code",
      "source": [
        "print(train.info())\n",
        "display(train.head())"
      ],
      "metadata": {
        "colab": {
          "base_uri": "https://localhost:8080/",
          "height": 1000
        },
        "id": "Agj8rf3tlQAB",
        "outputId": "cc2b2557-7a6f-409d-db3f-dd02c651c014"
      },
      "execution_count": 4,
      "outputs": [
        {
          "output_type": "stream",
          "name": "stdout",
          "text": [
            "<class 'pandas.core.frame.DataFrame'>\n",
            "RangeIndex: 1460 entries, 0 to 1459\n",
            "Data columns (total 81 columns):\n",
            " #   Column         Non-Null Count  Dtype  \n",
            "---  ------         --------------  -----  \n",
            " 0   Id             1460 non-null   int64  \n",
            " 1   MSSubClass     1460 non-null   int64  \n",
            " 2   MSZoning       1460 non-null   object \n",
            " 3   LotFrontage    1201 non-null   float64\n",
            " 4   LotArea        1460 non-null   int64  \n",
            " 5   Street         1460 non-null   object \n",
            " 6   Alley          91 non-null     object \n",
            " 7   LotShape       1460 non-null   object \n",
            " 8   LandContour    1460 non-null   object \n",
            " 9   Utilities      1460 non-null   object \n",
            " 10  LotConfig      1460 non-null   object \n",
            " 11  LandSlope      1460 non-null   object \n",
            " 12  Neighborhood   1460 non-null   object \n",
            " 13  Condition1     1460 non-null   object \n",
            " 14  Condition2     1460 non-null   object \n",
            " 15  BldgType       1460 non-null   object \n",
            " 16  HouseStyle     1460 non-null   object \n",
            " 17  OverallQual    1460 non-null   int64  \n",
            " 18  OverallCond    1460 non-null   int64  \n",
            " 19  YearBuilt      1460 non-null   int64  \n",
            " 20  YearRemodAdd   1460 non-null   int64  \n",
            " 21  RoofStyle      1460 non-null   object \n",
            " 22  RoofMatl       1460 non-null   object \n",
            " 23  Exterior1st    1460 non-null   object \n",
            " 24  Exterior2nd    1460 non-null   object \n",
            " 25  MasVnrType     588 non-null    object \n",
            " 26  MasVnrArea     1452 non-null   float64\n",
            " 27  ExterQual      1460 non-null   object \n",
            " 28  ExterCond      1460 non-null   object \n",
            " 29  Foundation     1460 non-null   object \n",
            " 30  BsmtQual       1423 non-null   object \n",
            " 31  BsmtCond       1423 non-null   object \n",
            " 32  BsmtExposure   1422 non-null   object \n",
            " 33  BsmtFinType1   1423 non-null   object \n",
            " 34  BsmtFinSF1     1460 non-null   int64  \n",
            " 35  BsmtFinType2   1422 non-null   object \n",
            " 36  BsmtFinSF2     1460 non-null   int64  \n",
            " 37  BsmtUnfSF      1460 non-null   int64  \n",
            " 38  TotalBsmtSF    1460 non-null   int64  \n",
            " 39  Heating        1460 non-null   object \n",
            " 40  HeatingQC      1460 non-null   object \n",
            " 41  CentralAir     1460 non-null   object \n",
            " 42  Electrical     1459 non-null   object \n",
            " 43  1stFlrSF       1460 non-null   int64  \n",
            " 44  2ndFlrSF       1460 non-null   int64  \n",
            " 45  LowQualFinSF   1460 non-null   int64  \n",
            " 46  GrLivArea      1460 non-null   int64  \n",
            " 47  BsmtFullBath   1460 non-null   int64  \n",
            " 48  BsmtHalfBath   1460 non-null   int64  \n",
            " 49  FullBath       1460 non-null   int64  \n",
            " 50  HalfBath       1460 non-null   int64  \n",
            " 51  BedroomAbvGr   1460 non-null   int64  \n",
            " 52  KitchenAbvGr   1460 non-null   int64  \n",
            " 53  KitchenQual    1460 non-null   object \n",
            " 54  TotRmsAbvGrd   1460 non-null   int64  \n",
            " 55  Functional     1460 non-null   object \n",
            " 56  Fireplaces     1460 non-null   int64  \n",
            " 57  FireplaceQu    770 non-null    object \n",
            " 58  GarageType     1379 non-null   object \n",
            " 59  GarageYrBlt    1379 non-null   float64\n",
            " 60  GarageFinish   1379 non-null   object \n",
            " 61  GarageCars     1460 non-null   int64  \n",
            " 62  GarageArea     1460 non-null   int64  \n",
            " 63  GarageQual     1379 non-null   object \n",
            " 64  GarageCond     1379 non-null   object \n",
            " 65  PavedDrive     1460 non-null   object \n",
            " 66  WoodDeckSF     1460 non-null   int64  \n",
            " 67  OpenPorchSF    1460 non-null   int64  \n",
            " 68  EnclosedPorch  1460 non-null   int64  \n",
            " 69  3SsnPorch      1460 non-null   int64  \n",
            " 70  ScreenPorch    1460 non-null   int64  \n",
            " 71  PoolArea       1460 non-null   int64  \n",
            " 72  PoolQC         7 non-null      object \n",
            " 73  Fence          281 non-null    object \n",
            " 74  MiscFeature    54 non-null     object \n",
            " 75  MiscVal        1460 non-null   int64  \n",
            " 76  MoSold         1460 non-null   int64  \n",
            " 77  YrSold         1460 non-null   int64  \n",
            " 78  SaleType       1460 non-null   object \n",
            " 79  SaleCondition  1460 non-null   object \n",
            " 80  SalePrice      1460 non-null   int64  \n",
            "dtypes: float64(3), int64(35), object(43)\n",
            "memory usage: 924.0+ KB\n",
            "None\n"
          ]
        },
        {
          "output_type": "display_data",
          "data": {
            "text/plain": [
              "   Id  MSSubClass MSZoning  LotFrontage  LotArea Street Alley LotShape  \\\n",
              "0   1          60       RL         65.0     8450   Pave   NaN      Reg   \n",
              "1   2          20       RL         80.0     9600   Pave   NaN      Reg   \n",
              "2   3          60       RL         68.0    11250   Pave   NaN      IR1   \n",
              "3   4          70       RL         60.0     9550   Pave   NaN      IR1   \n",
              "4   5          60       RL         84.0    14260   Pave   NaN      IR1   \n",
              "\n",
              "  LandContour Utilities  ... PoolArea PoolQC Fence MiscFeature MiscVal MoSold  \\\n",
              "0         Lvl    AllPub  ...        0    NaN   NaN         NaN       0      2   \n",
              "1         Lvl    AllPub  ...        0    NaN   NaN         NaN       0      5   \n",
              "2         Lvl    AllPub  ...        0    NaN   NaN         NaN       0      9   \n",
              "3         Lvl    AllPub  ...        0    NaN   NaN         NaN       0      2   \n",
              "4         Lvl    AllPub  ...        0    NaN   NaN         NaN       0     12   \n",
              "\n",
              "  YrSold  SaleType  SaleCondition  SalePrice  \n",
              "0   2008        WD         Normal     208500  \n",
              "1   2007        WD         Normal     181500  \n",
              "2   2008        WD         Normal     223500  \n",
              "3   2006        WD        Abnorml     140000  \n",
              "4   2008        WD         Normal     250000  \n",
              "\n",
              "[5 rows x 81 columns]"
            ],
            "text/html": [
              "\n",
              "  <div id=\"df-b035374a-c9e2-4658-95fb-a2d76b0e19d7\" class=\"colab-df-container\">\n",
              "    <div>\n",
              "<style scoped>\n",
              "    .dataframe tbody tr th:only-of-type {\n",
              "        vertical-align: middle;\n",
              "    }\n",
              "\n",
              "    .dataframe tbody tr th {\n",
              "        vertical-align: top;\n",
              "    }\n",
              "\n",
              "    .dataframe thead th {\n",
              "        text-align: right;\n",
              "    }\n",
              "</style>\n",
              "<table border=\"1\" class=\"dataframe\">\n",
              "  <thead>\n",
              "    <tr style=\"text-align: right;\">\n",
              "      <th></th>\n",
              "      <th>Id</th>\n",
              "      <th>MSSubClass</th>\n",
              "      <th>MSZoning</th>\n",
              "      <th>LotFrontage</th>\n",
              "      <th>LotArea</th>\n",
              "      <th>Street</th>\n",
              "      <th>Alley</th>\n",
              "      <th>LotShape</th>\n",
              "      <th>LandContour</th>\n",
              "      <th>Utilities</th>\n",
              "      <th>...</th>\n",
              "      <th>PoolArea</th>\n",
              "      <th>PoolQC</th>\n",
              "      <th>Fence</th>\n",
              "      <th>MiscFeature</th>\n",
              "      <th>MiscVal</th>\n",
              "      <th>MoSold</th>\n",
              "      <th>YrSold</th>\n",
              "      <th>SaleType</th>\n",
              "      <th>SaleCondition</th>\n",
              "      <th>SalePrice</th>\n",
              "    </tr>\n",
              "  </thead>\n",
              "  <tbody>\n",
              "    <tr>\n",
              "      <th>0</th>\n",
              "      <td>1</td>\n",
              "      <td>60</td>\n",
              "      <td>RL</td>\n",
              "      <td>65.0</td>\n",
              "      <td>8450</td>\n",
              "      <td>Pave</td>\n",
              "      <td>NaN</td>\n",
              "      <td>Reg</td>\n",
              "      <td>Lvl</td>\n",
              "      <td>AllPub</td>\n",
              "      <td>...</td>\n",
              "      <td>0</td>\n",
              "      <td>NaN</td>\n",
              "      <td>NaN</td>\n",
              "      <td>NaN</td>\n",
              "      <td>0</td>\n",
              "      <td>2</td>\n",
              "      <td>2008</td>\n",
              "      <td>WD</td>\n",
              "      <td>Normal</td>\n",
              "      <td>208500</td>\n",
              "    </tr>\n",
              "    <tr>\n",
              "      <th>1</th>\n",
              "      <td>2</td>\n",
              "      <td>20</td>\n",
              "      <td>RL</td>\n",
              "      <td>80.0</td>\n",
              "      <td>9600</td>\n",
              "      <td>Pave</td>\n",
              "      <td>NaN</td>\n",
              "      <td>Reg</td>\n",
              "      <td>Lvl</td>\n",
              "      <td>AllPub</td>\n",
              "      <td>...</td>\n",
              "      <td>0</td>\n",
              "      <td>NaN</td>\n",
              "      <td>NaN</td>\n",
              "      <td>NaN</td>\n",
              "      <td>0</td>\n",
              "      <td>5</td>\n",
              "      <td>2007</td>\n",
              "      <td>WD</td>\n",
              "      <td>Normal</td>\n",
              "      <td>181500</td>\n",
              "    </tr>\n",
              "    <tr>\n",
              "      <th>2</th>\n",
              "      <td>3</td>\n",
              "      <td>60</td>\n",
              "      <td>RL</td>\n",
              "      <td>68.0</td>\n",
              "      <td>11250</td>\n",
              "      <td>Pave</td>\n",
              "      <td>NaN</td>\n",
              "      <td>IR1</td>\n",
              "      <td>Lvl</td>\n",
              "      <td>AllPub</td>\n",
              "      <td>...</td>\n",
              "      <td>0</td>\n",
              "      <td>NaN</td>\n",
              "      <td>NaN</td>\n",
              "      <td>NaN</td>\n",
              "      <td>0</td>\n",
              "      <td>9</td>\n",
              "      <td>2008</td>\n",
              "      <td>WD</td>\n",
              "      <td>Normal</td>\n",
              "      <td>223500</td>\n",
              "    </tr>\n",
              "    <tr>\n",
              "      <th>3</th>\n",
              "      <td>4</td>\n",
              "      <td>70</td>\n",
              "      <td>RL</td>\n",
              "      <td>60.0</td>\n",
              "      <td>9550</td>\n",
              "      <td>Pave</td>\n",
              "      <td>NaN</td>\n",
              "      <td>IR1</td>\n",
              "      <td>Lvl</td>\n",
              "      <td>AllPub</td>\n",
              "      <td>...</td>\n",
              "      <td>0</td>\n",
              "      <td>NaN</td>\n",
              "      <td>NaN</td>\n",
              "      <td>NaN</td>\n",
              "      <td>0</td>\n",
              "      <td>2</td>\n",
              "      <td>2006</td>\n",
              "      <td>WD</td>\n",
              "      <td>Abnorml</td>\n",
              "      <td>140000</td>\n",
              "    </tr>\n",
              "    <tr>\n",
              "      <th>4</th>\n",
              "      <td>5</td>\n",
              "      <td>60</td>\n",
              "      <td>RL</td>\n",
              "      <td>84.0</td>\n",
              "      <td>14260</td>\n",
              "      <td>Pave</td>\n",
              "      <td>NaN</td>\n",
              "      <td>IR1</td>\n",
              "      <td>Lvl</td>\n",
              "      <td>AllPub</td>\n",
              "      <td>...</td>\n",
              "      <td>0</td>\n",
              "      <td>NaN</td>\n",
              "      <td>NaN</td>\n",
              "      <td>NaN</td>\n",
              "      <td>0</td>\n",
              "      <td>12</td>\n",
              "      <td>2008</td>\n",
              "      <td>WD</td>\n",
              "      <td>Normal</td>\n",
              "      <td>250000</td>\n",
              "    </tr>\n",
              "  </tbody>\n",
              "</table>\n",
              "<p>5 rows × 81 columns</p>\n",
              "</div>\n",
              "    <div class=\"colab-df-buttons\">\n",
              "\n",
              "  <div class=\"colab-df-container\">\n",
              "    <button class=\"colab-df-convert\" onclick=\"convertToInteractive('df-b035374a-c9e2-4658-95fb-a2d76b0e19d7')\"\n",
              "            title=\"Convert this dataframe to an interactive table.\"\n",
              "            style=\"display:none;\">\n",
              "\n",
              "  <svg xmlns=\"http://www.w3.org/2000/svg\" height=\"24px\" viewBox=\"0 -960 960 960\">\n",
              "    <path d=\"M120-120v-720h720v720H120Zm60-500h600v-160H180v160Zm220 220h160v-160H400v160Zm0 220h160v-160H400v160ZM180-400h160v-160H180v160Zm440 0h160v-160H620v160ZM180-180h160v-160H180v160Zm440 0h160v-160H620v160Z\"/>\n",
              "  </svg>\n",
              "    </button>\n",
              "\n",
              "  <style>\n",
              "    .colab-df-container {\n",
              "      display:flex;\n",
              "      gap: 12px;\n",
              "    }\n",
              "\n",
              "    .colab-df-convert {\n",
              "      background-color: #E8F0FE;\n",
              "      border: none;\n",
              "      border-radius: 50%;\n",
              "      cursor: pointer;\n",
              "      display: none;\n",
              "      fill: #1967D2;\n",
              "      height: 32px;\n",
              "      padding: 0 0 0 0;\n",
              "      width: 32px;\n",
              "    }\n",
              "\n",
              "    .colab-df-convert:hover {\n",
              "      background-color: #E2EBFA;\n",
              "      box-shadow: 0px 1px 2px rgba(60, 64, 67, 0.3), 0px 1px 3px 1px rgba(60, 64, 67, 0.15);\n",
              "      fill: #174EA6;\n",
              "    }\n",
              "\n",
              "    .colab-df-buttons div {\n",
              "      margin-bottom: 4px;\n",
              "    }\n",
              "\n",
              "    [theme=dark] .colab-df-convert {\n",
              "      background-color: #3B4455;\n",
              "      fill: #D2E3FC;\n",
              "    }\n",
              "\n",
              "    [theme=dark] .colab-df-convert:hover {\n",
              "      background-color: #434B5C;\n",
              "      box-shadow: 0px 1px 3px 1px rgba(0, 0, 0, 0.15);\n",
              "      filter: drop-shadow(0px 1px 2px rgba(0, 0, 0, 0.3));\n",
              "      fill: #FFFFFF;\n",
              "    }\n",
              "  </style>\n",
              "\n",
              "    <script>\n",
              "      const buttonEl =\n",
              "        document.querySelector('#df-b035374a-c9e2-4658-95fb-a2d76b0e19d7 button.colab-df-convert');\n",
              "      buttonEl.style.display =\n",
              "        google.colab.kernel.accessAllowed ? 'block' : 'none';\n",
              "\n",
              "      async function convertToInteractive(key) {\n",
              "        const element = document.querySelector('#df-b035374a-c9e2-4658-95fb-a2d76b0e19d7');\n",
              "        const dataTable =\n",
              "          await google.colab.kernel.invokeFunction('convertToInteractive',\n",
              "                                                    [key], {});\n",
              "        if (!dataTable) return;\n",
              "\n",
              "        const docLinkHtml = 'Like what you see? Visit the ' +\n",
              "          '<a target=\"_blank\" href=https://colab.research.google.com/notebooks/data_table.ipynb>data table notebook</a>'\n",
              "          + ' to learn more about interactive tables.';\n",
              "        element.innerHTML = '';\n",
              "        dataTable['output_type'] = 'display_data';\n",
              "        await google.colab.output.renderOutput(dataTable, element);\n",
              "        const docLink = document.createElement('div');\n",
              "        docLink.innerHTML = docLinkHtml;\n",
              "        element.appendChild(docLink);\n",
              "      }\n",
              "    </script>\n",
              "  </div>\n",
              "\n",
              "\n",
              "    <div id=\"df-5a89d695-bb73-46d7-b49d-23398773f7dd\">\n",
              "      <button class=\"colab-df-quickchart\" onclick=\"quickchart('df-5a89d695-bb73-46d7-b49d-23398773f7dd')\"\n",
              "                title=\"Suggest charts\"\n",
              "                style=\"display:none;\">\n",
              "\n",
              "<svg xmlns=\"http://www.w3.org/2000/svg\" height=\"24px\"viewBox=\"0 0 24 24\"\n",
              "     width=\"24px\">\n",
              "    <g>\n",
              "        <path d=\"M19 3H5c-1.1 0-2 .9-2 2v14c0 1.1.9 2 2 2h14c1.1 0 2-.9 2-2V5c0-1.1-.9-2-2-2zM9 17H7v-7h2v7zm4 0h-2V7h2v10zm4 0h-2v-4h2v4z\"/>\n",
              "    </g>\n",
              "</svg>\n",
              "      </button>\n",
              "\n",
              "<style>\n",
              "  .colab-df-quickchart {\n",
              "      --bg-color: #E8F0FE;\n",
              "      --fill-color: #1967D2;\n",
              "      --hover-bg-color: #E2EBFA;\n",
              "      --hover-fill-color: #174EA6;\n",
              "      --disabled-fill-color: #AAA;\n",
              "      --disabled-bg-color: #DDD;\n",
              "  }\n",
              "\n",
              "  [theme=dark] .colab-df-quickchart {\n",
              "      --bg-color: #3B4455;\n",
              "      --fill-color: #D2E3FC;\n",
              "      --hover-bg-color: #434B5C;\n",
              "      --hover-fill-color: #FFFFFF;\n",
              "      --disabled-bg-color: #3B4455;\n",
              "      --disabled-fill-color: #666;\n",
              "  }\n",
              "\n",
              "  .colab-df-quickchart {\n",
              "    background-color: var(--bg-color);\n",
              "    border: none;\n",
              "    border-radius: 50%;\n",
              "    cursor: pointer;\n",
              "    display: none;\n",
              "    fill: var(--fill-color);\n",
              "    height: 32px;\n",
              "    padding: 0;\n",
              "    width: 32px;\n",
              "  }\n",
              "\n",
              "  .colab-df-quickchart:hover {\n",
              "    background-color: var(--hover-bg-color);\n",
              "    box-shadow: 0 1px 2px rgba(60, 64, 67, 0.3), 0 1px 3px 1px rgba(60, 64, 67, 0.15);\n",
              "    fill: var(--button-hover-fill-color);\n",
              "  }\n",
              "\n",
              "  .colab-df-quickchart-complete:disabled,\n",
              "  .colab-df-quickchart-complete:disabled:hover {\n",
              "    background-color: var(--disabled-bg-color);\n",
              "    fill: var(--disabled-fill-color);\n",
              "    box-shadow: none;\n",
              "  }\n",
              "\n",
              "  .colab-df-spinner {\n",
              "    border: 2px solid var(--fill-color);\n",
              "    border-color: transparent;\n",
              "    border-bottom-color: var(--fill-color);\n",
              "    animation:\n",
              "      spin 1s steps(1) infinite;\n",
              "  }\n",
              "\n",
              "  @keyframes spin {\n",
              "    0% {\n",
              "      border-color: transparent;\n",
              "      border-bottom-color: var(--fill-color);\n",
              "      border-left-color: var(--fill-color);\n",
              "    }\n",
              "    20% {\n",
              "      border-color: transparent;\n",
              "      border-left-color: var(--fill-color);\n",
              "      border-top-color: var(--fill-color);\n",
              "    }\n",
              "    30% {\n",
              "      border-color: transparent;\n",
              "      border-left-color: var(--fill-color);\n",
              "      border-top-color: var(--fill-color);\n",
              "      border-right-color: var(--fill-color);\n",
              "    }\n",
              "    40% {\n",
              "      border-color: transparent;\n",
              "      border-right-color: var(--fill-color);\n",
              "      border-top-color: var(--fill-color);\n",
              "    }\n",
              "    60% {\n",
              "      border-color: transparent;\n",
              "      border-right-color: var(--fill-color);\n",
              "    }\n",
              "    80% {\n",
              "      border-color: transparent;\n",
              "      border-right-color: var(--fill-color);\n",
              "      border-bottom-color: var(--fill-color);\n",
              "    }\n",
              "    90% {\n",
              "      border-color: transparent;\n",
              "      border-bottom-color: var(--fill-color);\n",
              "    }\n",
              "  }\n",
              "</style>\n",
              "\n",
              "      <script>\n",
              "        async function quickchart(key) {\n",
              "          const quickchartButtonEl =\n",
              "            document.querySelector('#' + key + ' button');\n",
              "          quickchartButtonEl.disabled = true;  // To prevent multiple clicks.\n",
              "          quickchartButtonEl.classList.add('colab-df-spinner');\n",
              "          try {\n",
              "            const charts = await google.colab.kernel.invokeFunction(\n",
              "                'suggestCharts', [key], {});\n",
              "          } catch (error) {\n",
              "            console.error('Error during call to suggestCharts:', error);\n",
              "          }\n",
              "          quickchartButtonEl.classList.remove('colab-df-spinner');\n",
              "          quickchartButtonEl.classList.add('colab-df-quickchart-complete');\n",
              "        }\n",
              "        (() => {\n",
              "          let quickchartButtonEl =\n",
              "            document.querySelector('#df-5a89d695-bb73-46d7-b49d-23398773f7dd button');\n",
              "          quickchartButtonEl.style.display =\n",
              "            google.colab.kernel.accessAllowed ? 'block' : 'none';\n",
              "        })();\n",
              "      </script>\n",
              "    </div>\n",
              "\n",
              "    </div>\n",
              "  </div>\n"
            ],
            "application/vnd.google.colaboratory.intrinsic+json": {
              "type": "dataframe"
            }
          },
          "metadata": {}
        }
      ]
    },
    {
      "cell_type": "code",
      "source": [
        "missing = train.isnull().sum().sort_values(ascending=False)\n",
        "print(\"Top 10 features with missing values:\\n\", missing[missing > 0].head(10))"
      ],
      "metadata": {
        "colab": {
          "base_uri": "https://localhost:8080/"
        },
        "id": "x4ErTAsllTgB",
        "outputId": "d6982840-fd38-470b-90d9-707904911b59"
      },
      "execution_count": 5,
      "outputs": [
        {
          "output_type": "stream",
          "name": "stdout",
          "text": [
            "Top 10 features with missing values:\n",
            " PoolQC          1453\n",
            "MiscFeature     1406\n",
            "Alley           1369\n",
            "Fence           1179\n",
            "MasVnrType       872\n",
            "FireplaceQu      690\n",
            "LotFrontage      259\n",
            "GarageQual        81\n",
            "GarageFinish      81\n",
            "GarageType        81\n",
            "dtype: int64\n"
          ]
        }
      ]
    },
    {
      "cell_type": "code",
      "source": [
        "print(\"\\nSalePrice summary:\\n\", train[\"SalePrice\"].describe())"
      ],
      "metadata": {
        "colab": {
          "base_uri": "https://localhost:8080/"
        },
        "id": "NNRnxPLBla2P",
        "outputId": "3ce5fd85-fbf9-4cb9-87d6-ce1f459518f2"
      },
      "execution_count": 6,
      "outputs": [
        {
          "output_type": "stream",
          "name": "stdout",
          "text": [
            "\n",
            "SalePrice summary:\n",
            " count      1460.000000\n",
            "mean     180921.195890\n",
            "std       79442.502883\n",
            "min       34900.000000\n",
            "25%      129975.000000\n",
            "50%      163000.000000\n",
            "75%      214000.000000\n",
            "max      755000.000000\n",
            "Name: SalePrice, dtype: float64\n"
          ]
        }
      ]
    },
    {
      "cell_type": "code",
      "source": [
        "plt.figure(figsize=(12,4))\n",
        "plt.subplot(1,2,1)\n",
        "sns.histplot(train[\"SalePrice\"], bins=40, kde=True)\n",
        "plt.title(\"SalePrice Distribution\")\n",
        "plt.subplot(1,2,2)\n",
        "sns.histplot(np.log1p(train[\"SalePrice\"]), bins=40, kde=True, color=\"orange\")\n",
        "plt.title(\"log(1 + SalePrice) Distribution\")\n",
        "plt.tight_layout()\n",
        "plt.show()\n"
      ],
      "metadata": {
        "colab": {
          "base_uri": "https://localhost:8080/",
          "height": 307
        },
        "id": "fCszSpQzlcRM",
        "outputId": "5f6a35a7-27a4-4f78-e9e4-c027d6d5c3f5"
      },
      "execution_count": 7,
      "outputs": [
        {
          "output_type": "display_data",
          "data": {
            "text/plain": [
              "<Figure size 1200x400 with 2 Axes>"
            ],
            "image/png": "[encoded data removed]"
          },
          "metadata": {}
        }
      ]
    },
    {
      "cell_type": "code",
      "source": [
        "plt.figure(figsize=(6,4))\n",
        "sns.scatterplot(x=\"GrLivArea\", y=\"SalePrice\", data=train)\n",
        "plt.title(\"SalePrice vs. GrLivArea\")\n",
        "plt.show()"
      ],
      "metadata": {
        "colab": {
          "base_uri": "https://localhost:8080/",
          "height": 410
        },
        "id": "3fwAa1XPlju6",
        "outputId": "08aeda45-cfb6-49be-d086-2af36ab67479"
      },
      "execution_count": 8,
      "outputs": [
        {
          "output_type": "display_data",
          "data": {
            "text/plain": [
              "<Figure size 600x400 with 1 Axes>"
            ],
            "image/png": "[encoded data removed]"
          },
          "metadata": {}
        }
      ]
    },
    {
      "cell_type": "code",
      "source": [
        "y = np.log1p(train[\"SalePrice\"])\n",
        "train_IDs = train[\"Id\"]\n",
        "test_IDs  = test[\"Id\"]\n",
        "\n",
        "X = train.drop(columns=[\"Id\", \"SalePrice\"])\n",
        "X_test = test.drop(columns=[\"Id\"])\n"
      ],
      "metadata": {
        "id": "948NHEuymdhw"
      },
      "execution_count": 10,
      "outputs": []
    },
    {
      "cell_type": "code",
      "source": [
        "num_cols = X.select_dtypes(include=['int64','float64']).columns\n",
        "cat_cols = X.select_dtypes(include=['object']).columns\n",
        "\n",
        "num_imp = SimpleImputer(strategy='median')\n",
        "cat_imp = SimpleImputer(strategy='constant', fill_value='Missing')\n",
        "\n",
        "X[num_cols]     = num_imp.fit_transform(X[num_cols])\n",
        "X_test[num_cols]= num_imp.transform(X_test[num_cols])\n",
        "\n",
        "X[cat_cols]     = cat_imp.fit_transform(X[cat_cols])\n",
        "X_test[cat_cols]= cat_imp.transform(X_test[cat_cols])\n",
        "\n",
        "\n",
        "num_cols = X.select_dtypes(include=['int64','float64']).columns\n",
        "cat_cols = X.select_dtypes(include=['object']).columns\n",
        "\n",
        "num_imp = SimpleImputer(strategy='median')\n",
        "cat_imp = SimpleImputer(strategy='constant', fill_value='Missing')\n",
        "\n",
        "X[num_cols]     = num_imp.fit_transform(X[num_cols])\n",
        "X_test[num_cols]= num_imp.transform(X_test[num_cols])\n",
        "\n",
        "X[cat_cols]     = cat_imp.fit_transform(X[cat_cols])\n",
        "X_test[cat_cols]= cat_imp.transform(X_test[cat_cols])\n"
      ],
      "metadata": {
        "id": "WeBVGErqlnH2"
      },
      "execution_count": 11,
      "outputs": []
    },
    {
      "cell_type": "code",
      "source": [
        "preprocessor = ColumnTransformer([\n",
        "    ('num', StandardScaler(), num_cols),\n",
        "    ('cat', OneHotEncoder(handle_unknown='ignore', sparse_output=False), cat_cols)\n",
        "])\n",
        "\n",
        "pipeline = Pipeline([\n",
        "    ('prep',   preprocessor),\n",
        "    ('ridge',  RidgeCV(alphas=[0.1,1.0,10.0]))\n",
        "])\n",
        "\n",
        "cv_scores = -cross_val_score(\n",
        "    pipeline, X, y,\n",
        "    cv=5,\n",
        "    scoring='neg_root_mean_squared_error'\n",
        ")\n",
        "print(f'CV RMSE: {cv_scores.mean():.4f} ± {cv_scores.std():.4f}')\n",
        "\n",
        "pipeline.fit(X, y)\n",
        "preds = np.expm1(pipeline.predict(X_test))\n",
        "\n",
        "submission = pd.DataFrame({'Id': test_IDs, 'SalePrice': preds})\n",
        "submission.to_csv('submission.csv', index=False)\n",
        "\n"
      ],
      "metadata": {
        "colab": {
          "base_uri": "https://localhost:8080/"
        },
        "id": "TnY6EfE-nEAB",
        "outputId": "c088f967-abcc-48bc-ed22-9f768b7dc575"
      },
      "execution_count": 14,
      "outputs": [
        {
          "output_type": "stream",
          "name": "stdout",
          "text": [
            "CV RMSE: 0.1396 ± 0.0252\n"
          ]
        }
      ]
    },
    {
      "cell_type": "code",
      "source": [
        "# 7.1 – Identify skewed numeric features\n",
        "from scipy.stats import skew\n",
        "\n",
        "# num_cols still defined from before\n",
        "skewness = X[num_cols].apply(lambda col: skew(col.dropna()))\n",
        "skewed_feats = skewness[abs(skewness) > 0.75].index.tolist()\n",
        "\n",
        "# 7.2 – Log-transform those skewed features\n",
        "for feat in skewed_feats:\n",
        "    X[feat]      = np.log1p(X[feat])\n",
        "    X_test[feat] = np.log1p(X_test[feat])\n",
        "\n",
        "# 7.3 – Create TotalSF and HouseAge\n",
        "for df in (X, X_test):\n",
        "    df[\"TotalSF\"]  = df[\"GrLivArea\"] + df[\"TotalBsmtSF\"]\n",
        "    df[\"HouseAge\"] = df[\"YrSold\"] - df[\"YearBuilt\"]\n",
        "\n",
        "# 7.4 – Refresh feature lists\n",
        "num_cols = X.select_dtypes(include=[\"int64\",\"float64\"]).columns.tolist()\n",
        "cat_cols = X.select_dtypes(include=[\"object\"]).columns.tolist()\n",
        "\n",
        "# 7.5 – Rebuild preprocessor & pipeline\n",
        "from sklearn.preprocessing import StandardScaler, OneHotEncoder\n",
        "from sklearn.compose import ColumnTransformer\n",
        "from sklearn.pipeline import Pipeline\n",
        "from sklearn.linear_model import RidgeCV\n",
        "from sklearn.model_selection import cross_val_score\n",
        "\n",
        "preprocessor = ColumnTransformer([\n",
        "    (\"num\", StandardScaler(), num_cols),\n",
        "    (\"cat\", OneHotEncoder(handle_unknown=\"ignore\", sparse_output=False), cat_cols),\n",
        "])\n",
        "\n",
        "pipeline = Pipeline([\n",
        "    (\"prep\",  preprocessor),\n",
        "    (\"ridge\", RidgeCV(alphas=[0.1, 1.0, 10.0])),\n",
        "])\n",
        "\n",
        "# 7.6 – Re-run CV\n",
        "cv_scores = -cross_val_score(\n",
        "    pipeline, X, y,\n",
        "    cv=5,\n",
        "    scoring=\"neg_root_mean_squared_error\"\n",
        ")\n",
        "print(f\"CV RMSE after FE: {cv_scores.mean():.4f} ± {cv_scores.std():.4f}\")\n"
      ],
      "metadata": {
        "colab": {
          "base_uri": "https://localhost:8080/"
        },
        "id": "89eQLSsvnex7",
        "outputId": "a1cb3b99-5888-4053-fe55-735c674d59b9"
      },
      "execution_count": 15,
      "outputs": [
        {
          "output_type": "stream",
          "name": "stdout",
          "text": [
            "CV RMSE after FE: 0.1265 ± 0.0156\n"
          ]
        }
      ]
    },
    {
      "cell_type": "code",
      "source": [
        "import lightgbm as lgb\n",
        "from sklearn.model_selection import cross_val_score\n",
        "\n",
        "# 8.1 – Build a new pipeline with LightGBM\n",
        "lgbm_pipeline = Pipeline([\n",
        "    (\"prep\",  preprocessor),   # from your Step 7\n",
        "    (\"model\", lgb.LGBMRegressor(\n",
        "        objective=\"regression\",\n",
        "        n_estimators=10000,\n",
        "        learning_rate=0.01,\n",
        "        num_leaves=31,\n",
        "        colsample_bytree=0.8,\n",
        "        subsample=0.8,\n",
        "        random_state=42\n",
        "    ))\n",
        "])\n",
        "\n",
        "# 8.2 – 5-fold CV RMSE\n",
        "cv_scores_lgb = -cross_val_score(\n",
        "    lgbm_pipeline, X, y,\n",
        "    cv=5,\n",
        "    scoring=\"neg_root_mean_squared_error\"\n",
        ")\n",
        "print(f\"LGBM CV RMSE: {cv_scores_lgb.mean():.4f} ± {cv_scores_lgb.std():.4f}\")\n"
      ],
      "metadata": {
        "colab": {
          "base_uri": "https://localhost:8080/"
        },
        "id": "E5Xr5ltUnvYe",
        "outputId": "90582ba9-d79d-4cd8-c086-3e7b25758fb9"
      },
      "execution_count": 17,
      "outputs": [
        {
          "output_type": "stream",
          "name": "stderr",
          "text": [
            "/usr/local/lib/python3.11/dist-packages/sklearn/utils/deprecation.py:151: FutureWarning: 'force_all_finite' was renamed to 'ensure_all_finite' in 1.6 and will be removed in 1.8.\n",
            "  warnings.warn(\n"
          ]
        },
        {
          "output_type": "stream",
          "name": "stdout",
          "text": [
            "[LightGBM] [Info] Auto-choosing row-wise multi-threading, the overhead of testing was 0.002262 seconds.\n",
            "You can set `force_row_wise=true` to remove the overhead.\n",
            "And if memory is not enough, you can set `force_col_wise=true`.\n",
            "[LightGBM] [Info] Total Bins 3577\n",
            "[LightGBM] [Info] Number of data points in the train set: 1168, number of used features: 198\n",
            "[LightGBM] [Info] Start training from score 12.021409\n"
          ]
        },
        {
          "output_type": "stream",
          "name": "stderr",
          "text": [
            "/usr/local/lib/python3.11/dist-packages/sklearn/utils/deprecation.py:151: FutureWarning: 'force_all_finite' was renamed to 'ensure_all_finite' in 1.6 and will be removed in 1.8.\n",
            "  warnings.warn(\n",
            "/usr/local/lib/python3.11/dist-packages/sklearn/utils/deprecation.py:151: FutureWarning: 'force_all_finite' was renamed to 'ensure_all_finite' in 1.6 and will be removed in 1.8.\n",
            "  warnings.warn(\n"
          ]
        },
        {
          "output_type": "stream",
          "name": "stdout",
          "text": [
            "[LightGBM] [Info] Auto-choosing row-wise multi-threading, the overhead of testing was 0.001182 seconds.\n",
            "You can set `force_row_wise=true` to remove the overhead.\n",
            "And if memory is not enough, you can set `force_col_wise=true`.\n",
            "[LightGBM] [Info] Total Bins 3589\n",
            "[LightGBM] [Info] Number of data points in the train set: 1168, number of used features: 194\n",
            "[LightGBM] [Info] Start training from score 12.023288\n"
          ]
        },
        {
          "output_type": "stream",
          "name": "stderr",
          "text": [
            "/usr/local/lib/python3.11/dist-packages/sklearn/utils/deprecation.py:151: FutureWarning: 'force_all_finite' was renamed to 'ensure_all_finite' in 1.6 and will be removed in 1.8.\n",
            "  warnings.warn(\n",
            "/usr/local/lib/python3.11/dist-packages/sklearn/utils/deprecation.py:151: FutureWarning: 'force_all_finite' was renamed to 'ensure_all_finite' in 1.6 and will be removed in 1.8.\n",
            "  warnings.warn(\n"
          ]
        },
        {
          "output_type": "stream",
          "name": "stdout",
          "text": [
            "[LightGBM] [Info] Auto-choosing row-wise multi-threading, the overhead of testing was 0.001186 seconds.\n",
            "You can set `force_row_wise=true` to remove the overhead.\n",
            "And if memory is not enough, you can set `force_col_wise=true`.\n",
            "[LightGBM] [Info] Total Bins 3584\n",
            "[LightGBM] [Info] Number of data points in the train set: 1168, number of used features: 197\n",
            "[LightGBM] [Info] Start training from score 12.020737\n"
          ]
        },
        {
          "output_type": "stream",
          "name": "stderr",
          "text": [
            "/usr/local/lib/python3.11/dist-packages/sklearn/utils/deprecation.py:151: FutureWarning: 'force_all_finite' was renamed to 'ensure_all_finite' in 1.6 and will be removed in 1.8.\n",
            "  warnings.warn(\n",
            "/usr/local/lib/python3.11/dist-packages/sklearn/utils/deprecation.py:151: FutureWarning: 'force_all_finite' was renamed to 'ensure_all_finite' in 1.6 and will be removed in 1.8.\n",
            "  warnings.warn(\n"
          ]
        },
        {
          "output_type": "stream",
          "name": "stdout",
          "text": [
            "[LightGBM] [Info] Auto-choosing row-wise multi-threading, the overhead of testing was 0.001207 seconds.\n",
            "You can set `force_row_wise=true` to remove the overhead.\n",
            "And if memory is not enough, you can set `force_col_wise=true`.\n",
            "[LightGBM] [Info] Total Bins 3607\n",
            "[LightGBM] [Info] Number of data points in the train set: 1168, number of used features: 195\n",
            "[LightGBM] [Info] Start training from score 12.032956\n"
          ]
        },
        {
          "output_type": "stream",
          "name": "stderr",
          "text": [
            "/usr/local/lib/python3.11/dist-packages/sklearn/utils/deprecation.py:151: FutureWarning: 'force_all_finite' was renamed to 'ensure_all_finite' in 1.6 and will be removed in 1.8.\n",
            "  warnings.warn(\n",
            "/usr/local/lib/python3.11/dist-packages/sklearn/utils/deprecation.py:151: FutureWarning: 'force_all_finite' was renamed to 'ensure_all_finite' in 1.6 and will be removed in 1.8.\n",
            "  warnings.warn(\n"
          ]
        },
        {
          "output_type": "stream",
          "name": "stdout",
          "text": [
            "[LightGBM] [Info] Auto-choosing row-wise multi-threading, the overhead of testing was 0.001170 seconds.\n",
            "You can set `force_row_wise=true` to remove the overhead.\n",
            "And if memory is not enough, you can set `force_col_wise=true`.\n",
            "[LightGBM] [Info] Total Bins 3589\n",
            "[LightGBM] [Info] Number of data points in the train set: 1168, number of used features: 196\n",
            "[LightGBM] [Info] Start training from score 12.021897\n"
          ]
        },
        {
          "output_type": "stream",
          "name": "stderr",
          "text": [
            "/usr/local/lib/python3.11/dist-packages/sklearn/utils/deprecation.py:151: FutureWarning: 'force_all_finite' was renamed to 'ensure_all_finite' in 1.6 and will be removed in 1.8.\n",
            "  warnings.warn(\n"
          ]
        },
        {
          "output_type": "stream",
          "name": "stdout",
          "text": [
            "LGBM CV RMSE: 0.1284 ± 0.0069\n"
          ]
        }
      ]
    },
    {
      "cell_type": "code",
      "source": [
        "!pip install optuna --quiet\n"
      ],
      "metadata": {
        "colab": {
          "base_uri": "https://localhost:8080/"
        },
        "id": "7oFrgUNQp-m5",
        "outputId": "cf4b2149-ca36-43c1-8981-aa27ee22247c"
      },
      "execution_count": 19,
      "outputs": [
        {
          "output_type": "stream",
          "name": "stdout",
          "text": [
            "\u001b[?25l   \u001b[90m━━━━━━━━━━━━━━━━━━━━━━━━━━━━━━━━━━━━━━━━\u001b[0m \u001b[32m0.0/395.9 kB\u001b[0m \u001b[31m?\u001b[0m eta \u001b[36m-:--:--\u001b[0m\r\u001b[2K   \u001b[91m━━━━━━━━━━━━━━━━━━━━━━━━━━━━━━━━━━━━━━━\u001b[0m\u001b[90m╺\u001b[0m \u001b[32m389.1/395.9 kB\u001b[0m \u001b[31m13.6 MB/s\u001b[0m eta \u001b[36m0:00:01\u001b[0m\r\u001b[2K   \u001b[90m━━━━━━━━━━━━━━━━━━━━━━━━━━━━━━━━━━━━━━━━\u001b[0m \u001b[32m395.9/395.9 kB\u001b[0m \u001b[31m7.5 MB/s\u001b[0m eta \u001b[36m0:00:00\u001b[0m\n",
            "\u001b[?25h\u001b[?25l   \u001b[90m━━━━━━━━━━━━━━━━━━━━━━━━━━━━━━━━━━━━━━━━\u001b[0m \u001b[32m0.0/247.0 kB\u001b[0m \u001b[31m?\u001b[0m eta \u001b[36m-:--:--\u001b[0m\r\u001b[2K   \u001b[90m━━━━━━━━━━━━━━━━━━━━━━━━━━━━━━━━━━━━━━━━\u001b[0m \u001b[32m247.0/247.0 kB\u001b[0m \u001b[31m11.3 MB/s\u001b[0m eta \u001b[36m0:00:00\u001b[0m\n",
            "\u001b[?25h"
          ]
        }
      ]
    },
    {
      "cell_type": "code",
      "source": [
        "import optuna\n",
        "from sklearn.model_selection import cross_val_score, KFold\n",
        "import lightgbm as lgb\n",
        "from sklearn.pipeline import Pipeline\n"
      ],
      "metadata": {
        "id": "OwH2rT_Wp2VL"
      },
      "execution_count": 20,
      "outputs": []
    },
    {
      "cell_type": "code",
      "source": [
        "\n",
        "def objective(trial):\n",
        "    params = {\n",
        "        \"n_estimators\": trial.suggest_int(\"n_estimators\", 1000, 20000, step=1000),\n",
        "        \"learning_rate\": trial.suggest_loguniform(\"learning_rate\", 0.001, 0.1),\n",
        "        \"num_leaves\": trial.suggest_int(\"num_leaves\", 16, 128, step=16),\n",
        "        \"colsample_bytree\": trial.suggest_uniform(\"colsample_bytree\", 0.5, 1.0),\n",
        "        \"subsample\": trial.suggest_uniform(\"subsample\", 0.5, 1.0),\n",
        "        \"min_child_samples\": trial.suggest_int(\"min_child_samples\", 5, 100, step=5),\n",
        "        \"reg_alpha\": trial.suggest_loguniform(\"reg_alpha\", 1e-8, 10.0),\n",
        "        \"reg_lambda\": trial.suggest_loguniform(\"reg_lambda\", 1e-8, 10.0),\n",
        "        \"random_state\": 42\n",
        "    }\n",
        "    pipe = Pipeline([\n",
        "        (\"prep\", preprocessor),\n",
        "        (\"model\", lgb.LGBMRegressor(**params))\n",
        "    ])\n",
        "    cv = KFold(5, shuffle=True, random_state=42)\n",
        "    scores = -cross_val_score(\n",
        "        pipe, X, y,\n",
        "        cv=cv,\n",
        "        scoring=\"neg_root_mean_squared_error\",\n",
        "        n_jobs=-1\n",
        "    )\n",
        "    return scores.mean()\n",
        "\n",
        "study = optuna.create_study(direction=\"minimize\")\n",
        "study.optimize(objective, n_trials=30)\n",
        "\n",
        "print(\"Best CV RMSE:\", study.best_value)\n",
        "print(\"Best params:\", study.best_params)\n"
      ],
      "metadata": {
        "colab": {
          "base_uri": "https://localhost:8080/"
        },
        "id": "hIM7nRk3qSr-",
        "outputId": "24b7c5a2-93a5-42c2-800d-2e4f4fb4bd55"
      },
      "execution_count": 21,
      "outputs": [
        {
          "output_type": "stream",
          "name": "stderr",
          "text": [
            "[I 2025-07-22 15:03:31,186] A new study created in memory with name: no-name-b8ffa614-26e1-41de-9761-e355420ebe9b\n",
            "/tmp/ipython-input-21-3024717267.py:4: FutureWarning: suggest_loguniform has been deprecated in v3.0.0. This feature will be removed in v6.0.0. See https://github.com/optuna/optuna/releases/tag/v3.0.0. Use suggest_float(..., log=True) instead.\n",
            "  \"learning_rate\": trial.suggest_loguniform(\"learning_rate\", 0.001, 0.1),\n",
            "/tmp/ipython-input-21-3024717267.py:6: FutureWarning: suggest_uniform has been deprecated in v3.0.0. This feature will be removed in v6.0.0. See https://github.com/optuna/optuna/releases/tag/v3.0.0. Use suggest_float instead.\n",
            "  \"colsample_bytree\": trial.suggest_uniform(\"colsample_bytree\", 0.5, 1.0),\n",
            "/tmp/ipython-input-21-3024717267.py:7: FutureWarning: suggest_uniform has been deprecated in v3.0.0. This feature will be removed in v6.0.0. See https://github.com/optuna/optuna/releases/tag/v3.0.0. Use suggest_float instead.\n",
            "  \"subsample\": trial.suggest_uniform(\"subsample\", 0.5, 1.0),\n",
            "/tmp/ipython-input-21-3024717267.py:9: FutureWarning: suggest_loguniform has been deprecated in v3.0.0. This feature will be removed in v6.0.0. See https://github.com/optuna/optuna/releases/tag/v3.0.0. Use suggest_float(..., log=True) instead.\n",
            "  \"reg_alpha\": trial.suggest_loguniform(\"reg_alpha\", 1e-8, 10.0),\n",
            "/tmp/ipython-input-21-3024717267.py:10: FutureWarning: suggest_loguniform has been deprecated in v3.0.0. This feature will be removed in v6.0.0. See https://github.com/optuna/optuna/releases/tag/v3.0.0. Use suggest_float(..., log=True) instead.\n",
            "  \"reg_lambda\": trial.suggest_loguniform(\"reg_lambda\", 1e-8, 10.0),\n",
            "[I 2025-07-22 15:04:07,924] Trial 0 finished with value: 0.13143742737048492 and parameters: {'n_estimators': 4000, 'learning_rate': 0.004632720152462108, 'num_leaves': 128, 'colsample_bytree': 0.619756417315911, 'subsample': 0.7705462496068906, 'min_child_samples': 55, 'reg_alpha': 0.0036664928024766944, 'reg_lambda': 1.0912309642705338e-08}. Best is trial 0 with value: 0.13143742737048492.\n",
            "[I 2025-07-22 15:06:04,627] Trial 1 finished with value: 0.14079071751326439 and parameters: {'n_estimators': 19000, 'learning_rate': 0.02095086505849923, 'num_leaves': 128, 'colsample_bytree': 0.8275046698885489, 'subsample': 0.5522314489822002, 'min_child_samples': 65, 'reg_alpha': 5.8741538823855534e-05, 'reg_lambda': 2.009233470378339e-05}. Best is trial 0 with value: 0.13143742737048492.\n",
            "[I 2025-07-22 15:07:31,621] Trial 2 finished with value: 0.1414149570529047 and parameters: {'n_estimators': 16000, 'learning_rate': 0.005006305785708739, 'num_leaves': 112, 'colsample_bytree': 0.9023312675168915, 'subsample': 0.5033936003320363, 'min_child_samples': 75, 'reg_alpha': 0.00014298504918006734, 'reg_lambda': 0.33825113120926303}. Best is trial 0 with value: 0.13143742737048492.\n",
            "[I 2025-07-22 15:09:33,759] Trial 3 finished with value: 0.1360796470484366 and parameters: {'n_estimators': 20000, 'learning_rate': 0.004246416410227368, 'num_leaves': 64, 'colsample_bytree': 0.5512352729729846, 'subsample': 0.5388461363295984, 'min_child_samples': 55, 'reg_alpha': 0.00016247925764300067, 'reg_lambda': 0.0007830176064128024}. Best is trial 0 with value: 0.13143742737048492.\n",
            "[I 2025-07-22 15:10:56,009] Trial 4 finished with value: 0.13688178587243188 and parameters: {'n_estimators': 14000, 'learning_rate': 0.017579996908945243, 'num_leaves': 48, 'colsample_bytree': 0.7762978494519527, 'subsample': 0.612490730809776, 'min_child_samples': 30, 'reg_alpha': 0.01347225147837768, 'reg_lambda': 3.8876305673296844e-07}. Best is trial 0 with value: 0.13143742737048492.\n",
            "[I 2025-07-22 15:11:33,903] Trial 5 finished with value: 0.13382362929224012 and parameters: {'n_estimators': 6000, 'learning_rate': 0.0034959106458020708, 'num_leaves': 96, 'colsample_bytree': 0.8269630313007708, 'subsample': 0.6790031231635623, 'min_child_samples': 55, 'reg_alpha': 7.875689941149738e-05, 'reg_lambda': 2.8098300185006563e-05}. Best is trial 0 with value: 0.13143742737048492.\n",
            "[I 2025-07-22 15:12:04,179] Trial 6 finished with value: 0.13354622829004434 and parameters: {'n_estimators': 16000, 'learning_rate': 0.09665947078358714, 'num_leaves': 112, 'colsample_bytree': 0.763154093956437, 'subsample': 0.7283601448324004, 'min_child_samples': 20, 'reg_alpha': 0.49032272999481874, 'reg_lambda': 3.4144318976381734e-08}. Best is trial 0 with value: 0.13143742737048492.\n",
            "[I 2025-07-22 15:12:40,745] Trial 7 finished with value: 0.13599339556685297 and parameters: {'n_estimators': 10000, 'learning_rate': 0.02034864386612471, 'num_leaves': 48, 'colsample_bytree': 0.7183050940786823, 'subsample': 0.7491739929010027, 'min_child_samples': 45, 'reg_alpha': 0.17348956897340465, 'reg_lambda': 0.0009305758658007887}. Best is trial 0 with value: 0.13143742737048492.\n",
            "[I 2025-07-22 15:13:51,046] Trial 8 finished with value: 0.1316217999750286 and parameters: {'n_estimators': 11000, 'learning_rate': 0.001700691991619283, 'num_leaves': 32, 'colsample_bytree': 0.7164899342544412, 'subsample': 0.721791126905445, 'min_child_samples': 50, 'reg_alpha': 3.629308753766021e-08, 'reg_lambda': 8.199294984799035e-05}. Best is trial 0 with value: 0.13143742737048492.\n",
            "[I 2025-07-22 15:14:37,017] Trial 9 finished with value: 0.13775193809450245 and parameters: {'n_estimators': 6000, 'learning_rate': 0.016672204186944328, 'num_leaves': 48, 'colsample_bytree': 0.7544684811866758, 'subsample': 0.8440842607226553, 'min_child_samples': 45, 'reg_alpha': 1.9694821756294742e-08, 'reg_lambda': 1.2931665065520171e-08}. Best is trial 0 with value: 0.13143742737048492.\n",
            "[I 2025-07-22 15:14:44,585] Trial 10 finished with value: 0.15278129661686732 and parameters: {'n_estimators': 2000, 'learning_rate': 0.0016740243063699746, 'num_leaves': 80, 'colsample_bytree': 0.5652520831122416, 'subsample': 0.9577318387933289, 'min_child_samples': 100, 'reg_alpha': 1.081538352271702e-06, 'reg_lambda': 6.6940738762599965}. Best is trial 0 with value: 0.13143742737048492.\n",
            "[I 2025-07-22 15:15:53,016] Trial 11 finished with value: 0.12854041073076322 and parameters: {'n_estimators': 10000, 'learning_rate': 0.0010263721990132046, 'num_leaves': 16, 'colsample_bytree': 0.6493867732239968, 'subsample': 0.8896660837325551, 'min_child_samples': 5, 'reg_alpha': 1.2221465775902207e-08, 'reg_lambda': 1.5818342703792957e-06}. Best is trial 11 with value: 0.12854041073076322.\n",
            "[I 2025-07-22 15:16:01,778] Trial 12 finished with value: 0.19967289574825173 and parameters: {'n_estimators': 1000, 'learning_rate': 0.0011733643084268321, 'num_leaves': 16, 'colsample_bytree': 0.6422087840719809, 'subsample': 0.8676675351421652, 'min_child_samples': 5, 'reg_alpha': 0.00793426288179195, 'reg_lambda': 3.282653002534665e-07}. Best is trial 11 with value: 0.12854041073076322.\n",
            "[I 2025-07-22 15:16:27,356] Trial 13 finished with value: 0.1367336661534888 and parameters: {'n_estimators': 6000, 'learning_rate': 0.006354987558956165, 'num_leaves': 16, 'colsample_bytree': 0.6296749719134737, 'subsample': 0.8429226105361176, 'min_child_samples': 85, 'reg_alpha': 2.8288649043375027e-06, 'reg_lambda': 9.855997917190566e-07}. Best is trial 11 with value: 0.12854041073076322.\n",
            "[I 2025-07-22 15:16:51,103] Trial 14 finished with value: 0.1506769455122372 and parameters: {'n_estimators': 9000, 'learning_rate': 0.00223387328525295, 'num_leaves': 80, 'colsample_bytree': 0.6336274147457479, 'subsample': 0.9883432712606579, 'min_child_samples': 30, 'reg_alpha': 6.967839089596258, 'reg_lambda': 1.2071128301325175e-08}. Best is trial 11 with value: 0.12854041073076322.\n",
            "[I 2025-07-22 15:18:11,350] Trial 15 finished with value: 0.13317843086746714 and parameters: {'n_estimators': 4000, 'learning_rate': 0.009531989784211808, 'num_leaves': 128, 'colsample_bytree': 0.5128398703596804, 'subsample': 0.9068478907576532, 'min_child_samples': 5, 'reg_alpha': 0.003341132492031276, 'reg_lambda': 2.441415654983425e-06}. Best is trial 11 with value: 0.12854041073076322.\n",
            "[I 2025-07-22 15:20:10,058] Trial 16 finished with value: 0.1398017694094684 and parameters: {'n_estimators': 12000, 'learning_rate': 0.08061768475667296, 'num_leaves': 96, 'colsample_bytree': 0.9710729204495967, 'subsample': 0.7818014038797771, 'min_child_samples': 30, 'reg_alpha': 1.781298727823787e-06, 'reg_lambda': 0.013056014609081228}. Best is trial 11 with value: 0.12854041073076322.\n",
            "[I 2025-07-22 15:20:49,877] Trial 17 finished with value: 0.13331540712084464 and parameters: {'n_estimators': 8000, 'learning_rate': 0.0025152793062076548, 'num_leaves': 64, 'colsample_bytree': 0.6729340694622367, 'subsample': 0.7937892808190234, 'min_child_samples': 70, 'reg_alpha': 1.9658021570609407e-07, 'reg_lambda': 1.376122096127651e-07}. Best is trial 11 with value: 0.12854041073076322.\n",
            "[I 2025-07-22 15:21:19,772] Trial 18 finished with value: 0.13504738254142895 and parameters: {'n_estimators': 3000, 'learning_rate': 0.00105592157770818, 'num_leaves': 32, 'colsample_bytree': 0.5490187200088033, 'subsample': 0.9176322963351914, 'min_child_samples': 15, 'reg_alpha': 1.4603658425383924e-05, 'reg_lambda': 3.957675214373999e-06}. Best is trial 11 with value: 0.12854041073076322.\n",
            "[I 2025-07-22 15:22:12,993] Trial 19 finished with value: 0.14760337980226476 and parameters: {'n_estimators': 13000, 'learning_rate': 0.042305755674682755, 'num_leaves': 96, 'colsample_bytree': 0.593145914753806, 'subsample': 0.8079983215268272, 'min_child_samples': 90, 'reg_alpha': 0.0006276423472087382, 'reg_lambda': 7.355782900805866e-08}. Best is trial 11 with value: 0.12854041073076322.\n",
            "[I 2025-07-22 15:23:00,565] Trial 20 finished with value: 0.1335133321671707 and parameters: {'n_estimators': 8000, 'learning_rate': 0.008898829283317481, 'num_leaves': 32, 'colsample_bytree': 0.5048781164140943, 'subsample': 0.6842943396526646, 'min_child_samples': 40, 'reg_alpha': 0.12242295046646996, 'reg_lambda': 9.08542040186537e-06}. Best is trial 11 with value: 0.12854041073076322.\n",
            "[I 2025-07-22 15:24:04,791] Trial 21 finished with value: 0.13200023568524374 and parameters: {'n_estimators': 11000, 'learning_rate': 0.0017079840606091935, 'num_leaves': 32, 'colsample_bytree': 0.7013055155965862, 'subsample': 0.6797130607628006, 'min_child_samples': 60, 'reg_alpha': 1.1444103902962797e-08, 'reg_lambda': 0.00012426951357698198}. Best is trial 11 with value: 0.12854041073076322.\n",
            "[I 2025-07-22 15:25:13,393] Trial 22 finished with value: 0.1364300042151342 and parameters: {'n_estimators': 15000, 'learning_rate': 0.0024133606798377076, 'num_leaves': 16, 'colsample_bytree': 0.6841915602577685, 'subsample': 0.6140361922388561, 'min_child_samples': 80, 'reg_alpha': 1.279067082765256e-07, 'reg_lambda': 0.009205590867675917}. Best is trial 11 with value: 0.12854041073076322.\n",
            "[I 2025-07-22 15:25:39,154] Trial 23 finished with value: 0.13131653270911275 and parameters: {'n_estimators': 4000, 'learning_rate': 0.0014374549414068246, 'num_leaves': 32, 'colsample_bytree': 0.608092533650712, 'subsample': 0.7351391664316149, 'min_child_samples': 45, 'reg_alpha': 8.079142846063747e-08, 'reg_lambda': 6.015740093636835e-05}. Best is trial 11 with value: 0.12854041073076322.\n",
            "[I 2025-07-22 15:26:03,444] Trial 24 finished with value: 0.13277971939904054 and parameters: {'n_estimators': 4000, 'learning_rate': 0.0010002276977346992, 'num_leaves': 16, 'colsample_bytree': 0.6047205649216826, 'subsample': 0.8980079025726018, 'min_child_samples': 20, 'reg_alpha': 1.4786271290298505e-07, 'reg_lambda': 0.004527609379538542}. Best is trial 11 with value: 0.12854041073076322.\n",
            "[I 2025-07-22 15:26:38,650] Trial 25 finished with value: 0.13041420519010108 and parameters: {'n_estimators': 5000, 'learning_rate': 0.0033497690493919288, 'num_leaves': 48, 'colsample_bytree': 0.59039319624989, 'subsample': 0.7656660289878584, 'min_child_samples': 40, 'reg_alpha': 0.0012538726670156212, 'reg_lambda': 3.307990920637284e-06}. Best is trial 11 with value: 0.12854041073076322.\n",
            "[I 2025-07-22 15:27:33,513] Trial 26 finished with value: 0.13098371007799736 and parameters: {'n_estimators': 7000, 'learning_rate': 0.0027876946536144745, 'num_leaves': 48, 'colsample_bytree': 0.5777234775679214, 'subsample': 0.6277004809064057, 'min_child_samples': 35, 'reg_alpha': 1.1560437745351502e-05, 'reg_lambda': 1.7208032615338615e-06}. Best is trial 11 with value: 0.12854041073076322.\n",
            "[I 2025-07-22 15:28:30,078] Trial 27 finished with value: 0.13416614188074677 and parameters: {'n_estimators': 7000, 'learning_rate': 0.007393696888861962, 'num_leaves': 64, 'colsample_bytree': 0.5650980066552311, 'subsample': 0.6421343928278537, 'min_child_samples': 35, 'reg_alpha': 1.0033360647449513e-05, 'reg_lambda': 1.3905660746965686e-06}. Best is trial 11 with value: 0.12854041073076322.\n",
            "[I 2025-07-22 15:30:24,512] Trial 28 finished with value: 0.13217271822671783 and parameters: {'n_estimators': 8000, 'learning_rate': 0.003081929113817487, 'num_leaves': 48, 'colsample_bytree': 0.6678757508261421, 'subsample': 0.8296710375528589, 'min_child_samples': 20, 'reg_alpha': 0.0011816337895450408, 'reg_lambda': 5.49979100318935e-07}. Best is trial 11 with value: 0.12854041073076322.\n",
            "[I 2025-07-22 15:31:24,965] Trial 29 finished with value: 0.13053569628432776 and parameters: {'n_estimators': 5000, 'learning_rate': 0.005293997255254469, 'num_leaves': 48, 'colsample_bytree': 0.5268573874375843, 'subsample': 0.5681273982862436, 'min_child_samples': 10, 'reg_alpha': 0.030326997109312005, 'reg_lambda': 8.256196679611864e-06}. Best is trial 11 with value: 0.12854041073076322.\n"
          ]
        },
        {
          "output_type": "stream",
          "name": "stdout",
          "text": [
            "Best CV RMSE: 0.12854041073076322\n",
            "Best params: {'n_estimators': 10000, 'learning_rate': 0.0010263721990132046, 'num_leaves': 16, 'colsample_bytree': 0.6493867732239968, 'subsample': 0.8896660837325551, 'min_child_samples': 5, 'reg_alpha': 1.2221465775902207e-08, 'reg_lambda': 1.5818342703792957e-06}\n"
          ]
        }
      ]
    },
    {
      "cell_type": "code",
      "source": [
        "import lightgbm as lgb\n",
        "from sklearn.pipeline import Pipeline\n",
        "\n",
        "\n",
        "best_params = {\n",
        "    'n_estimators':       10000,\n",
        "    'learning_rate':      0.0010263721990132046,\n",
        "    'num_leaves':         16,\n",
        "    'colsample_bytree':   0.6493867732239968,\n",
        "    'subsample':          0.8896660837325551,\n",
        "    'min_child_samples':  5,\n",
        "    'reg_alpha':          1.2221465775902207e-08,\n",
        "    'reg_lambda':         1.5818342703792957e-06,\n",
        "    'random_state':       42\n",
        "}\n",
        "\n",
        "\n",
        "final_lgbm = Pipeline([\n",
        "    (\"prep\",  preprocessor),\n",
        "    (\"model\", lgb.LGBMRegressor(**best_params))\n",
        "])\n",
        "\n",
        "\n",
        "final_lgbm.fit(X, y)\n",
        "\n",
        "preds_lgbm = np.expm1(final_lgbm.predict(X_test))\n",
        "\n",
        "\n",
        "submission = pd.DataFrame({\n",
        "    \"Id\":        test_IDs,\n",
        "    \"SalePrice\": preds_lgbm\n",
        "})\n",
        "submission.to_csv(\"submission_lgbm_final.csv\", index=False)\n",
        "print(\"Wrote submission_lgbm_final.csv\")\n"
      ],
      "metadata": {
        "colab": {
          "base_uri": "https://localhost:8080/"
        },
        "id": "IdK4Ec_cxJ_m",
        "outputId": "00d7a2e9-23a2-42f7-c462-adfe8acff5e9"
      },
      "execution_count": 22,
      "outputs": [
        {
          "output_type": "stream",
          "name": "stderr",
          "text": [
            "/usr/local/lib/python3.11/dist-packages/sklearn/utils/deprecation.py:151: FutureWarning: 'force_all_finite' was renamed to 'ensure_all_finite' in 1.6 and will be removed in 1.8.\n",
            "  warnings.warn(\n"
          ]
        },
        {
          "output_type": "stream",
          "name": "stdout",
          "text": [
            "[LightGBM] [Info] Auto-choosing row-wise multi-threading, the overhead of testing was 0.008116 seconds.\n",
            "You can set `force_row_wise=true` to remove the overhead.\n",
            "And if memory is not enough, you can set `force_col_wise=true`.\n",
            "[LightGBM] [Info] Total Bins 3977\n",
            "[LightGBM] [Info] Number of data points in the train set: 1460, number of used features: 256\n",
            "[LightGBM] [Info] Start training from score 12.024057\n"
          ]
        },
        {
          "output_type": "stream",
          "name": "stderr",
          "text": [
            "/usr/local/lib/python3.11/dist-packages/sklearn/utils/deprecation.py:151: FutureWarning: 'force_all_finite' was renamed to 'ensure_all_finite' in 1.6 and will be removed in 1.8.\n",
            "  warnings.warn(\n"
          ]
        },
        {
          "output_type": "stream",
          "name": "stdout",
          "text": [
            "Wrote submission_lgbm_final.csv\n"
          ]
        }
      ]
    }
  ]
}